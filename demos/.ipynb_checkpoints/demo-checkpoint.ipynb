{
 "cells": [
  {
   "cell_type": "markdown",
   "metadata": {},
   "source": [
    "## A demonstration of some basic computations using infotopo package ##\n",
    "* Link: http://github.com/leihuang/infotopo\n",
    "* Reference: https://github.com/leihuang/infotopo/blob/master/docs/PhDThesisLeiHuang.pdf\n",
    "(Section 2.7)\n",
    "* About SloppyCell, around which much of the computation on reaction networks in\n",
    "infotopo is wrapped: http://sloppycell.sourceforge.net/user.pdf"
   ]
  },
  {
   "cell_type": "code",
   "execution_count": 1,
   "metadata": {},
   "outputs": [
    {
     "ename": "ImportError",
     "evalue": "No module named models.rxnnet.examples.toynets",
     "output_type": "error",
     "traceback": [
      "\u001b[0;31m---------------------------------------------------------------------------\u001b[0m",
      "\u001b[0;31mImportError\u001b[0m                               Traceback (most recent call last)",
      "\u001b[0;32m<ipython-input-1-47bb5fbc6abb>\u001b[0m in \u001b[0;36m<module>\u001b[0;34m()\u001b[0m\n\u001b[1;32m      1\u001b[0m \u001b[0;32mfrom\u001b[0m \u001b[0m__future__\u001b[0m \u001b[0;32mimport\u001b[0m \u001b[0mdivision\u001b[0m\u001b[0;34m\u001b[0m\u001b[0m\n\u001b[1;32m      2\u001b[0m \u001b[0;32mimport\u001b[0m \u001b[0mnumpy\u001b[0m \u001b[0;32mas\u001b[0m \u001b[0mnp\u001b[0m\u001b[0;34m\u001b[0m\u001b[0m\n\u001b[0;32m----> 3\u001b[0;31m \u001b[0;32mfrom\u001b[0m \u001b[0minfotopo\u001b[0m\u001b[0;34m.\u001b[0m\u001b[0mmodels\u001b[0m\u001b[0;34m.\u001b[0m\u001b[0mrxnnet\u001b[0m\u001b[0;34m.\u001b[0m\u001b[0mexamples\u001b[0m\u001b[0;34m.\u001b[0m\u001b[0mtoynets\u001b[0m \u001b[0;32mimport\u001b[0m \u001b[0mpath3mmh\u001b[0m \u001b[0;32mas\u001b[0m \u001b[0mnet\u001b[0m\u001b[0;34m\u001b[0m\u001b[0m\n\u001b[0m\u001b[1;32m      4\u001b[0m \u001b[0;32mfrom\u001b[0m \u001b[0minfotopo\u001b[0m\u001b[0;34m.\u001b[0m\u001b[0mmodels\u001b[0m\u001b[0;34m.\u001b[0m\u001b[0mrxnnet\u001b[0m \u001b[0;32mimport\u001b[0m \u001b[0mexperiments\u001b[0m\u001b[0;34m\u001b[0m\u001b[0m\n\u001b[1;32m      5\u001b[0m \u001b[0;32mfrom\u001b[0m \u001b[0minfotopo\u001b[0m \u001b[0;32mimport\u001b[0m \u001b[0mresidual\u001b[0m\u001b[0;34m,\u001b[0m \u001b[0mfitting\u001b[0m\u001b[0;34m,\u001b[0m \u001b[0msampling\u001b[0m\u001b[0;34m\u001b[0m\u001b[0m\n",
      "\u001b[0;31mImportError\u001b[0m: No module named models.rxnnet.examples.toynets"
     ]
    }
   ],
   "source": [
    "from __future__ import division\n",
    "import numpy as np \n",
    "from infotopo.models.rxnnet.examples.toynets import path3mmh as net \n",
    "from infotopo.models.rxnnet import experiments\n",
    "from infotopo import residual, fitting, sampling\n",
    "from util import butil"
   ]
  },
  {
   "cell_type": "code",
   "execution_count": null,
   "metadata": {
    "collapsed": true
   },
   "outputs": [],
   "source": [
    "# setting up the network \n",
    "net.set_var_ic('KE1', 5) \n",
    "net.set_var_ic('KE2', 4)\n",
    "p = net.p0.randomize(seed=0, sigma=1)"
   ]
  },
  {
   "cell_type": "code",
   "execution_count": null,
   "metadata": {
    "collapsed": true
   },
   "outputs": [],
   "source": [
    "# integrating the trajectory and plot it\n",
    "traj = net.get_traj((0,100), p=p) \n",
    "traj.plot(legends=traj.varids, legendloc='center right')"
   ]
  },
  {
   "cell_type": "code",
   "execution_count": null,
   "metadata": {
    "collapsed": true
   },
   "outputs": [],
   "source": [
    "# get steady-state concentrations \n",
    "s = net.get_s(p=p)\n",
    "print s"
   ]
  },
  {
   "cell_type": "code",
   "execution_count": null,
   "metadata": {
    "collapsed": true
   },
   "outputs": [],
   "source": [
    "# Structural calculation: get stoichiometry matrix and steady-state flux vectors \n",
    "print net.N, '\\n\\n', net.K"
   ]
  },
  {
   "cell_type": "code",
   "execution_count": null,
   "metadata": {
    "collapsed": true
   },
   "outputs": [],
   "source": [
    "# MCA calculation: get flux control matrix (rows should sum up to one by summation theo \n",
    "nCJ = net.get_flux_ctrl_mat(p=p, normed=1)\n",
    "print nCJ, '\\n\\n', nCJ.sum(axis=1)"
   ]
  },
  {
   "cell_type": "markdown",
   "metadata": {},
   "source": [
    "insert Lei's nice text with eqns here"
   ]
  },
  {
   "cell_type": "code",
   "execution_count": null,
   "metadata": {
    "collapsed": true
   },
   "outputs": [],
   "source": [
    "# get experiments objects that specify the model predictions (that is, y) \n",
    "expts_xc = experiments.get_experiments(net.xids, ['C1','C2'],\n",
    "                                               us=butil.get_product(*[[1,2,3]]*2))\n",
    "expts_jc = experiments.get_experiments(net.Jids[0], ['C1','C2'],\n",
    "                                               us=butil.get_product(*[[1,2,3]]*2))\n",
    "expts = expts_xc + expts_jc\n",
    "\n",
    "# combine model objects and experiments objects to get predict objects (that is, f)\n",
    "pred_xc = net.get_predict(expts_xc, tol_ss=1e-13)\n",
    "pred_jc = net.get_predict(expts_jc, tol_ss=1e-13)\n",
    "pred = net.get_predict(expts, tol_ss=1e-13)"
   ]
  },
  {
   "cell_type": "code",
   "execution_count": null,
   "metadata": {
    "collapsed": true
   },
   "outputs": [],
   "source": [
    "pred_xc.get_spectrum(p)"
   ]
  },
  {
   "cell_type": "code",
   "execution_count": null,
   "metadata": {
    "collapsed": true
   },
   "outputs": [],
   "source": [
    "# generating simulation data \n",
    "dat = pred.get_dat(p=p)\n",
    "print dat"
   ]
  },
  {
   "cell_type": "code",
   "execution_count": null,
   "metadata": {
    "collapsed": true
   },
   "outputs": [],
   "source": [
    "# make a residual object that contains the predict object and data, \n",
    "# and do the fitting (using Levenberg-Marquardt algorithm)\n",
    "res = residual.Residual(pred=pred, dat=dat)\n",
    "fit = fitting.fit_lm_scipy(res, p0=p.randomize(sigma=0.2))"
   ]
  },
  {
   "cell_type": "code",
   "execution_count": null,
   "metadata": {
    "collapsed": true
   },
   "outputs": [],
   "source": [
    "# confirm that the best fit parameter recovers the original parameter used for generat\n",
    "fit.p.values - p.values"
   ]
  },
  {
   "cell_type": "code",
   "execution_count": null,
   "metadata": {
    "collapsed": true
   },
   "outputs": [],
   "source": [
    "# generating ensembles\n",
    "ens = sampling.sampling(res, 1000, stepscale=0.1)"
   ]
  },
  {
   "cell_type": "code",
   "execution_count": null,
   "metadata": {
    "collapsed": true
   },
   "outputs": [],
   "source": [
    "# scatter-plot the ensembles \n",
    "ens.scatter()"
   ]
  }
 ],
 "metadata": {
  "kernelspec": {
   "display_name": "Python 2",
   "language": "python",
   "name": "python2"
  },
  "language_info": {
   "codemirror_mode": {
    "name": "ipython",
    "version": 2
   },
   "file_extension": ".py",
   "mimetype": "text/x-python",
   "name": "python",
   "nbconvert_exporter": "python",
   "pygments_lexer": "ipython2",
   "version": "2.7.10"
  }
 },
 "nbformat": 4,
 "nbformat_minor": 2
}
